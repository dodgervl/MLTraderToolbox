{
 "cells": [
  {
   "cell_type": "code",
   "execution_count": 18,
   "metadata": {
    "scrolled": true
   },
   "outputs": [],
   "source": [
    "import asyncio\n",
    "import websockets\n",
    "import json\n",
    "import nest_asyncio\n",
    "nest_asyncio.apply()\n",
    "\n",
    "\n",
    "async def call_api(msg):\n",
    "    async with websockets.connect('wss://test.deribit.com/ws/api/v2') as websocket:\n",
    "        await websocket.send(msg)\n",
    "        while websocket.open:\n",
    "            response = await websocket.recv()\n",
    "            # do something with the response...\n",
    "            websocket.close()\n",
    "            return response"
   ]
  },
  {
   "cell_type": "code",
   "execution_count": null,
   "metadata": {},
   "outputs": [],
   "source": [
    "# msg = \\\n",
    "# {\n",
    "#   \"jsonrpc\" : \"2.0\",\n",
    "#   \"id\" : 9344,\n",
    "#   \"method\" : \"public/get_book_summary_by_currency\",\n",
    "#   \"params\" : {\n",
    "#     \"currency\" : \"BTC\",\n",
    "#     \"kind\" : \"future\"\n",
    "#   }\n",
    "# }"
   ]
  },
  {
   "cell_type": "code",
   "execution_count": 19,
   "metadata": {},
   "outputs": [],
   "source": [
    "msg = \\\n",
    "{\n",
    "  \"jsonrpc\" : \"2.0\",\n",
    "  \"id\" : 7538,\n",
    "  \"method\" : \"public/get_currencies\",\n",
    "  \"params\" : {\n",
    "\n",
    "  }\n",
    "}\n"
   ]
  },
  {
   "cell_type": "code",
   "execution_count": 20,
   "metadata": {},
   "outputs": [
    {
     "name": "stderr",
     "output_type": "stream",
     "text": [
      "/home/dodger/anaconda3/lib/python3.7/site-packages/ipykernel_launcher.py:14: RuntimeWarning: coroutine 'WebSocketCommonProtocol.close' was never awaited\n",
      "  \n",
      "RuntimeWarning: Enable tracemalloc to get the object allocation traceback\n"
     ]
    }
   ],
   "source": [
    "data = asyncio.get_event_loop().run_until_complete(call_api(json.dumps(msg)))"
   ]
  },
  {
   "cell_type": "code",
   "execution_count": 22,
   "metadata": {},
   "outputs": [
    {
     "data": {
      "text/plain": [
       "'{\"jsonrpc\":\"2.0\",\"id\":7538,\"result\":[{\"withdrawal_priorities\":[],\"withdrawal_fee\":0.0164,\"min_withdrawal_fee\":0.0,\"min_confirmations\":1,\"fee_precision\":4,\"currency_long\":\"Tether\",\"currency\":\"USDT\",\"coin_type\":\"TETHER\"},{\"withdrawal_priorities\":[],\"withdrawal_fee\":0.0001,\"min_withdrawal_fee\":0.0001,\"min_confirmations\":4,\"fee_precision\":4,\"currency_long\":\"Ethereum\",\"currency\":\"ETH\",\"coin_type\":\"ETHER\"},{\"withdrawal_priorities\":[{\"value\":1.0,\"name\":\"normal\"},{\"value\":1.5,\"name\":\"very_high\"}],\"withdrawal_fee\":0.0001,\"min_withdrawal_fee\":0.0001,\"min_confirmations\":1,\"fee_precision\":4,\"currency_long\":\"Bitcoin\",\"currency\":\"BTC\",\"coin_type\":\"BITCOIN\"}],\"usIn\":1608833539732880,\"usOut\":1608833539733994,\"usDiff\":1114,\"testnet\":true}'"
      ]
     },
     "execution_count": 22,
     "metadata": {},
     "output_type": "execute_result"
    }
   ],
   "source": [
    "data"
   ]
  },
  {
   "cell_type": "code",
   "execution_count": null,
   "metadata": {},
   "outputs": [],
   "source": []
  }
 ],
 "metadata": {
  "kernelspec": {
   "display_name": "Python 3",
   "language": "python",
   "name": "python3"
  },
  "language_info": {
   "codemirror_mode": {
    "name": "ipython",
    "version": 3
   },
   "file_extension": ".py",
   "mimetype": "text/x-python",
   "name": "python",
   "nbconvert_exporter": "python",
   "pygments_lexer": "ipython3",
   "version": "3.7.6"
  }
 },
 "nbformat": 4,
 "nbformat_minor": 4
}
