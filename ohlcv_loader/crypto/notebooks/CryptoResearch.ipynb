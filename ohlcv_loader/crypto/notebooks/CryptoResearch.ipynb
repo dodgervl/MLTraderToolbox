{
 "cells": [
  {
   "cell_type": "code",
   "execution_count": 1,
   "metadata": {},
   "outputs": [],
   "source": [
    "# coding: utf-8\n",
    "import ccxt\n",
    "import pandas as pd\n",
    "import json\n",
    "import os\n",
    "import time"
   ]
  },
  {
   "cell_type": "code",
   "execution_count": 3,
   "metadata": {},
   "outputs": [
    {
     "data": {
      "text/plain": [
       "'/media/dodger/DATA/Projects/Git/MLTraderToolbox/ohlcv_loader/crypto/notebooks'"
      ]
     },
     "execution_count": 3,
     "metadata": {},
     "output_type": "execute_result"
    }
   ],
   "source": [
    "cwd = os.getcwd()\n",
    "cwd"
   ]
  },
  {
   "cell_type": "code",
   "execution_count": 40,
   "metadata": {},
   "outputs": [],
   "source": [
    "crypto_pairs = [\"BTC/ETH\",\"BTC/LTC\",\"BTC/XRP\",\"BTC/BCH\",\"BTC/EOS\",\n",
    "                \"BTC/XLM\", \"BTC/TRX\",\"BTC/ADA\",\"BTC/DASH\",\"BTC/NEO\"\n",
    "               ]"
   ]
  },
  {
   "cell_type": "code",
   "execution_count": 41,
   "metadata": {},
   "outputs": [],
   "source": [
    "reverse_pairs = []\n",
    "for pair in crypto_pairs:\n",
    "    second,first = pair.split('/')\n",
    "    reverse_pairs.append(first+'/'+second)"
   ]
  },
  {
   "cell_type": "code",
   "execution_count": 42,
   "metadata": {},
   "outputs": [],
   "source": [
    "crypto_pairs = reverse_pairs"
   ]
  },
  {
   "cell_type": "code",
   "execution_count": 44,
   "metadata": {
    "scrolled": true
   },
   "outputs": [
    {
     "name": "stdout",
     "output_type": "stream",
     "text": [
      "Pair: LTC/BTC\n",
      "1483228800000\n",
      "1485925200000\n",
      "1488621600000\n",
      "1491318000000\n",
      "1494014400000\n",
      "1496710800000\n",
      "1499407200000\n",
      "1502103600000\n",
      "1504800000000\n",
      "1507496400000\n",
      "1510192800000\n",
      "1512889200000\n",
      "1515585600000\n",
      "1518282000000\n",
      "1520978400000\n",
      "1523674800000\n",
      "1526371200000\n",
      "1529067600000\n",
      "1531764000000\n",
      "1534460400000\n",
      "1537156800000\n",
      "1539853200000\n",
      "1542549600000\n",
      "1545246000000\n",
      "1547942400000\n",
      "1550638800000\n",
      "1553335200000\n",
      "1556031600000\n",
      "1558728000000\n",
      "1561424400000\n",
      "1564120800000\n",
      "1566817200000\n",
      "1569513600000\n",
      "1572210000000\n",
      "1574906400000\n",
      "1577602800000\n",
      "1580299200000\n",
      "1582995600000\n",
      "1585692000000\n",
      "1588388400000\n",
      "1591084800000\n",
      "1593781200000\n",
      "1596477600000\n",
      "1599174000000\n",
      "1601870400000\n",
      "1604566800000\n",
      "Pair: XRP/BTC\n"
     ]
    },
    {
     "ename": "ValueError",
     "evalue": "Length mismatch: Expected axis has 0 elements, new values have 6 elements",
     "output_type": "error",
     "traceback": [
      "\u001b[0;31m---------------------------------------------------------------------------\u001b[0m",
      "\u001b[0;31mValueError\u001b[0m                                Traceback (most recent call last)",
      "\u001b[0;32m<ipython-input-44-7244632d03fb>\u001b[0m in \u001b[0;36m<module>\u001b[0;34m\u001b[0m\n\u001b[1;32m     40\u001b[0m             \u001b[0mdata\u001b[0m \u001b[0;34m=\u001b[0m \u001b[0;34m(\u001b[0m\u001b[0mdata\u001b[0m\u001b[0;34m.\u001b[0m\u001b[0mappend\u001b[0m\u001b[0;34m(\u001b[0m\u001b[0mdf\u001b[0m\u001b[0;34m)\u001b[0m\u001b[0;34m)\u001b[0m\u001b[0;34m.\u001b[0m\u001b[0mreset_index\u001b[0m\u001b[0;34m(\u001b[0m\u001b[0mdrop\u001b[0m\u001b[0;34m=\u001b[0m\u001b[0;32mTrue\u001b[0m\u001b[0;34m)\u001b[0m\u001b[0;34m\u001b[0m\u001b[0;34m\u001b[0m\u001b[0m\n\u001b[1;32m     41\u001b[0m \u001b[0;34m\u001b[0m\u001b[0m\n\u001b[0;32m---> 42\u001b[0;31m     \u001b[0mdata\u001b[0m\u001b[0;34m.\u001b[0m\u001b[0mcolumns\u001b[0m \u001b[0;34m=\u001b[0m \u001b[0;34m[\u001b[0m\u001b[0;34m'date'\u001b[0m\u001b[0;34m,\u001b[0m \u001b[0;34m'open'\u001b[0m\u001b[0;34m,\u001b[0m \u001b[0;34m'high'\u001b[0m\u001b[0;34m,\u001b[0m \u001b[0;34m'low'\u001b[0m\u001b[0;34m,\u001b[0m \u001b[0;34m'close'\u001b[0m\u001b[0;34m,\u001b[0m \u001b[0;34m'volume'\u001b[0m\u001b[0;34m]\u001b[0m\u001b[0;34m\u001b[0m\u001b[0;34m\u001b[0m\u001b[0m\n\u001b[0m\u001b[1;32m     43\u001b[0m     \u001b[0mdata\u001b[0m\u001b[0;34m[\u001b[0m\u001b[0;34m'date'\u001b[0m\u001b[0;34m]\u001b[0m \u001b[0;34m=\u001b[0m \u001b[0mdata\u001b[0m\u001b[0;34m[\u001b[0m\u001b[0;34m'date'\u001b[0m\u001b[0;34m]\u001b[0m\u001b[0;34m.\u001b[0m\u001b[0mapply\u001b[0m\u001b[0;34m(\u001b[0m\u001b[0;32mlambda\u001b[0m \u001b[0mx\u001b[0m\u001b[0;34m:\u001b[0m \u001b[0mexchange\u001b[0m\u001b[0;34m.\u001b[0m\u001b[0miso8601\u001b[0m\u001b[0;34m(\u001b[0m\u001b[0mx\u001b[0m\u001b[0;34m)\u001b[0m\u001b[0;34m)\u001b[0m\u001b[0;34m\u001b[0m\u001b[0;34m\u001b[0m\u001b[0m\n\u001b[1;32m     44\u001b[0m \u001b[0;34m\u001b[0m\u001b[0m\n",
      "\u001b[0;32m~/anaconda3/lib/python3.7/site-packages/pandas/core/generic.py\u001b[0m in \u001b[0;36m__setattr__\u001b[0;34m(self, name, value)\u001b[0m\n\u001b[1;32m   5285\u001b[0m         \u001b[0;32mtry\u001b[0m\u001b[0;34m:\u001b[0m\u001b[0;34m\u001b[0m\u001b[0;34m\u001b[0m\u001b[0m\n\u001b[1;32m   5286\u001b[0m             \u001b[0mobject\u001b[0m\u001b[0;34m.\u001b[0m\u001b[0m__getattribute__\u001b[0m\u001b[0;34m(\u001b[0m\u001b[0mself\u001b[0m\u001b[0;34m,\u001b[0m \u001b[0mname\u001b[0m\u001b[0;34m)\u001b[0m\u001b[0;34m\u001b[0m\u001b[0;34m\u001b[0m\u001b[0m\n\u001b[0;32m-> 5287\u001b[0;31m             \u001b[0;32mreturn\u001b[0m \u001b[0mobject\u001b[0m\u001b[0;34m.\u001b[0m\u001b[0m__setattr__\u001b[0m\u001b[0;34m(\u001b[0m\u001b[0mself\u001b[0m\u001b[0;34m,\u001b[0m \u001b[0mname\u001b[0m\u001b[0;34m,\u001b[0m \u001b[0mvalue\u001b[0m\u001b[0;34m)\u001b[0m\u001b[0;34m\u001b[0m\u001b[0;34m\u001b[0m\u001b[0m\n\u001b[0m\u001b[1;32m   5288\u001b[0m         \u001b[0;32mexcept\u001b[0m \u001b[0mAttributeError\u001b[0m\u001b[0;34m:\u001b[0m\u001b[0;34m\u001b[0m\u001b[0;34m\u001b[0m\u001b[0m\n\u001b[1;32m   5289\u001b[0m             \u001b[0;32mpass\u001b[0m\u001b[0;34m\u001b[0m\u001b[0;34m\u001b[0m\u001b[0m\n",
      "\u001b[0;32mpandas/_libs/properties.pyx\u001b[0m in \u001b[0;36mpandas._libs.properties.AxisProperty.__set__\u001b[0;34m()\u001b[0m\n",
      "\u001b[0;32m~/anaconda3/lib/python3.7/site-packages/pandas/core/generic.py\u001b[0m in \u001b[0;36m_set_axis\u001b[0;34m(self, axis, labels)\u001b[0m\n\u001b[1;32m    659\u001b[0m \u001b[0;34m\u001b[0m\u001b[0m\n\u001b[1;32m    660\u001b[0m     \u001b[0;32mdef\u001b[0m \u001b[0m_set_axis\u001b[0m\u001b[0;34m(\u001b[0m\u001b[0mself\u001b[0m\u001b[0;34m,\u001b[0m \u001b[0maxis\u001b[0m\u001b[0;34m,\u001b[0m \u001b[0mlabels\u001b[0m\u001b[0;34m)\u001b[0m \u001b[0;34m->\u001b[0m \u001b[0;32mNone\u001b[0m\u001b[0;34m:\u001b[0m\u001b[0;34m\u001b[0m\u001b[0;34m\u001b[0m\u001b[0m\n\u001b[0;32m--> 661\u001b[0;31m         \u001b[0mself\u001b[0m\u001b[0;34m.\u001b[0m\u001b[0m_data\u001b[0m\u001b[0;34m.\u001b[0m\u001b[0mset_axis\u001b[0m\u001b[0;34m(\u001b[0m\u001b[0maxis\u001b[0m\u001b[0;34m,\u001b[0m \u001b[0mlabels\u001b[0m\u001b[0;34m)\u001b[0m\u001b[0;34m\u001b[0m\u001b[0;34m\u001b[0m\u001b[0m\n\u001b[0m\u001b[1;32m    662\u001b[0m         \u001b[0mself\u001b[0m\u001b[0;34m.\u001b[0m\u001b[0m_clear_item_cache\u001b[0m\u001b[0;34m(\u001b[0m\u001b[0;34m)\u001b[0m\u001b[0;34m\u001b[0m\u001b[0;34m\u001b[0m\u001b[0m\n\u001b[1;32m    663\u001b[0m \u001b[0;34m\u001b[0m\u001b[0m\n",
      "\u001b[0;32m~/anaconda3/lib/python3.7/site-packages/pandas/core/internals/managers.py\u001b[0m in \u001b[0;36mset_axis\u001b[0;34m(self, axis, new_labels)\u001b[0m\n\u001b[1;32m    176\u001b[0m         \u001b[0;32mif\u001b[0m \u001b[0mnew_len\u001b[0m \u001b[0;34m!=\u001b[0m \u001b[0mold_len\u001b[0m\u001b[0;34m:\u001b[0m\u001b[0;34m\u001b[0m\u001b[0;34m\u001b[0m\u001b[0m\n\u001b[1;32m    177\u001b[0m             raise ValueError(\n\u001b[0;32m--> 178\u001b[0;31m                 \u001b[0;34mf\"Length mismatch: Expected axis has {old_len} elements, new \"\u001b[0m\u001b[0;34m\u001b[0m\u001b[0;34m\u001b[0m\u001b[0m\n\u001b[0m\u001b[1;32m    179\u001b[0m                 \u001b[0;34mf\"values have {new_len} elements\"\u001b[0m\u001b[0;34m\u001b[0m\u001b[0;34m\u001b[0m\u001b[0m\n\u001b[1;32m    180\u001b[0m             )\n",
      "\u001b[0;31mValueError\u001b[0m: Length mismatch: Expected axis has 0 elements, new values have 6 elements"
     ]
    }
   ],
   "source": [
    "timeframe_dic = {'5m': 5, '1m': 1, '1h': 60, '1d': 1440}\n",
    "exchange_dic = {'bitmex': ccxt.bitmex(), 'binance': ccxt.binance(),\n",
    "                'bittrex': ccxt.bittrex(), 'bitfinex': ccxt.bitfinex()}\n",
    "#cwd = os.getcwd()\n",
    "# cwd = \"/media/dodger/DATA/Projects/Git/MLTraderToolbox/ohlcv_loader/crypto/\"\n",
    "# with open(cwd + '/params/crypto.json') as f:\n",
    "#     params = json.loads(f.read())\n",
    "cwd = \"/media/dodger/DATA/Projects/Git/MLTraderToolbox/ohlcv_loader/crypto/\"\n",
    "params = {}\n",
    "params['exchange'] = 'binance'\n",
    "params['date_begin'] = \"2017-01-01 00:00:00\"\n",
    "params['date_end'] = \"2020-11-08 00:00:00\"\n",
    "params[\"timeframe\"] = \"1h\"\n",
    "#assign to variables\n",
    "exchange_name = params['exchange']\n",
    "exchange = exchange_dic[exchange_name]\n",
    "beg = exchange.parse8601(params['date_begin'])\n",
    "end = exchange.parse8601(params['date_end'])\n",
    "for pair in crypto_pairs[1:]:\n",
    "    print(f\"Pair: {pair}\")\n",
    "    params[\"symbol\"] = pair\n",
    "    limit = 750\n",
    "    step = timeframe_dic[params['timeframe']] * 60 * 1000 * \\\n",
    "        (limit - 1)  # get 749 candles from fetch_ohlcv\n",
    "    data, df = pd.DataFrame(), pd.DataFrame()\n",
    "\n",
    "    while beg < end:\n",
    "        print(beg)\n",
    "        try:\n",
    "            df = pd.DataFrame(exchange.fetch_ohlcv(\n",
    "                params['symbol'], params['timeframe'], since=beg, limit=limit))\n",
    "        except Exception:\n",
    "            print(\"Exception\")\n",
    "            time.sleep(1)\n",
    "            continue\n",
    "        beg += step\n",
    "        if data.empty:\n",
    "            data = df.copy()\n",
    "        else:\n",
    "            data = (data.append(df)).reset_index(drop=True)\n",
    "\n",
    "    data.columns = ['date', 'open', 'high', 'low', 'close', 'volume']\n",
    "    data['date'] = data['date'].apply(lambda x: exchange.iso8601(x))\n",
    "\n",
    "    symbol = params['symbol'].replace('/', '_')\n",
    "    if not os.path.exists(cwd + \"/data/\" + exchange_name):\n",
    "        os.mkdir(cwd + \"/data/\" + exchange_name)\n",
    "    path = cwd + \"/data/\" + exchange_name + '/' + symbol + '/'\n",
    "    if not os.path.exists(path):\n",
    "        os.mkdir(path)\n",
    "    date_str = data['date'][0].split(\n",
    "        'T')[0] + '_' + data['date'][len(data) - 1].split('T')[0]\n",
    "    data.to_csv(path + exchange_name + '_' + symbol +\n",
    "                '_' + date_str + '.csv', index=False)"
   ]
  },
  {
   "cell_type": "code",
   "execution_count": null,
   "metadata": {},
   "outputs": [],
   "source": [
    "data"
   ]
  },
  {
   "cell_type": "code",
   "execution_count": 4,
   "metadata": {},
   "outputs": [
    {
     "name": "stdout",
     "output_type": "stream",
     "text": [
      "1483228800000\n",
      "1485925200000\n",
      "1488621600000\n",
      "1491318000000\n",
      "1494014400000\n",
      "1496710800000\n",
      "1499407200000\n",
      "1502103600000\n",
      "1504800000000\n",
      "1507496400000\n",
      "1510192800000\n",
      "1512889200000\n",
      "1515585600000\n",
      "1518282000000\n",
      "1520978400000\n",
      "1523674800000\n",
      "1526371200000\n",
      "1529067600000\n",
      "1531764000000\n",
      "1534460400000\n",
      "1537156800000\n",
      "1539853200000\n",
      "1542549600000\n",
      "1545246000000\n",
      "1547942400000\n",
      "1550638800000\n",
      "1553335200000\n",
      "1556031600000\n",
      "1558728000000\n",
      "1561424400000\n",
      "1564120800000\n",
      "1566817200000\n",
      "1569513600000\n",
      "1572210000000\n",
      "1574906400000\n",
      "1577602800000\n",
      "1580299200000\n",
      "1582995600000\n",
      "1585692000000\n",
      "1588388400000\n",
      "1591084800000\n",
      "1593781200000\n",
      "1596477600000\n",
      "1599174000000\n",
      "1601870400000\n",
      "1604566800000\n"
     ]
    }
   ],
   "source": [
    "def main():\n",
    "    timeframe_dic = {'5m': 5, '1m': 1, '1h': 60, '1d': 1440}\n",
    "    exchange_dic = {'bitmex': ccxt.bitmex(), 'binance': ccxt.binance(),\n",
    "                    'bittrex': ccxt.bittrex(), 'bitfinex': ccxt.bitfinex()}\n",
    "    #cwd = os.getcwd()\n",
    "    cwd = \"/media/dodger/DATA/Projects/Git/MLTraderToolbox/ohlcv_loader/crypto/\"\n",
    "    with open(cwd + '/params/crypto.json') as f:\n",
    "        params = json.loads(f.read())\n",
    "\n",
    "    exchange_name = params['exchange']\n",
    "    exchange = exchange_dic[exchange_name]\n",
    "    beg = exchange.parse8601(params['date_begin'])\n",
    "    end = exchange.parse8601(params['date_end'])\n",
    "    limit = 750\n",
    "    step = timeframe_dic[params['timeframe']] * 60 * 1000 * \\\n",
    "        (limit - 1)  # get 749 candles from fetch_ohlcv\n",
    "    data, df = pd.DataFrame(), pd.DataFrame()\n",
    "\n",
    "    while beg < end:\n",
    "        print(beg)\n",
    "        try:\n",
    "            df = pd.DataFrame(exchange.fetch_ohlcv(\n",
    "                params['symbol'], params['timeframe'], since=beg, limit=limit))\n",
    "        except Exception:\n",
    "            print(\"Exception\")\n",
    "            time.sleep(1)\n",
    "            continue\n",
    "        beg += step\n",
    "        if data.empty:\n",
    "            data = df.copy()\n",
    "        else:\n",
    "            data = (data.append(df)).reset_index(drop=True)\n",
    "\n",
    "    data.columns = ['date', 'open', 'high', 'low', 'close', 'volume']\n",
    "    data['date'] = data['date'].apply(lambda x: exchange.iso8601(x))\n",
    "\n",
    "    symbol = params['symbol'].replace('/', '_')\n",
    "    if not os.path.exists(cwd + \"/data/\" + exchange_name):\n",
    "        os.mkdir(cwd + \"/data/\" + exchange_name)\n",
    "    path = cwd + \"/data/\" + exchange_name + '/' + symbol + '/'\n",
    "    if not os.path.exists(path):\n",
    "        os.mkdir(path)\n",
    "    date_str = data['date'][0].split(\n",
    "        'T')[0] + '_' + data['date'][len(data) - 1].split('T')[0]\n",
    "    data.to_csv(path + exchange_name + '_' + symbol +\n",
    "                '_' + date_str + '.csv', index=False)\n",
    "\n",
    "\n",
    "if __name__ == \"__main__\":\n",
    "    main()\n"
   ]
  },
  {
   "cell_type": "code",
   "execution_count": null,
   "metadata": {},
   "outputs": [],
   "source": []
  }
 ],
 "metadata": {
  "kernelspec": {
   "display_name": "Python 3",
   "language": "python",
   "name": "python3"
  },
  "language_info": {
   "codemirror_mode": {
    "name": "ipython",
    "version": 3
   },
   "file_extension": ".py",
   "mimetype": "text/x-python",
   "name": "python",
   "nbconvert_exporter": "python",
   "pygments_lexer": "ipython3",
   "version": "3.7.6"
  }
 },
 "nbformat": 4,
 "nbformat_minor": 4
}
