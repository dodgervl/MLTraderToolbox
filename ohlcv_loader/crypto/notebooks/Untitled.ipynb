{
 "cells": [
  {
   "cell_type": "code",
   "execution_count": 5,
   "metadata": {},
   "outputs": [],
   "source": [
    "import cryptofeed"
   ]
  },
  {
   "cell_type": "code",
   "execution_count": 7,
   "metadata": {},
   "outputs": [
    {
     "data": {
      "text/plain": [
       "<module 'cryptofeed' (namespace)>"
      ]
     },
     "execution_count": 7,
     "metadata": {},
     "output_type": "execute_result"
    }
   ],
   "source": [
    "cryptofeed"
   ]
  },
  {
   "cell_type": "code",
   "execution_count": 1,
   "metadata": {},
   "outputs": [
    {
     "ename": "ImportError",
     "evalue": "cannot import name 'FeedHandler' from 'cryptofeed' (unknown location)",
     "output_type": "error",
     "traceback": [
      "\u001b[0;31m---------------------------------------------------------------------------\u001b[0m",
      "\u001b[0;31mImportError\u001b[0m                               Traceback (most recent call last)",
      "\u001b[0;32m<ipython-input-1-2867d8889a4d>\u001b[0m in \u001b[0;36m<module>\u001b[0;34m\u001b[0m\n\u001b[0;32m----> 1\u001b[0;31m \u001b[0;32mfrom\u001b[0m \u001b[0mcryptofeed\u001b[0m \u001b[0;32mimport\u001b[0m \u001b[0mFeedHandler\u001b[0m\u001b[0;34m\u001b[0m\u001b[0;34m\u001b[0m\u001b[0m\n\u001b[0m\u001b[1;32m      2\u001b[0m \u001b[0;32mfrom\u001b[0m \u001b[0mcryptofeed\u001b[0m\u001b[0;34m.\u001b[0m\u001b[0mcallback\u001b[0m \u001b[0;32mimport\u001b[0m \u001b[0mBookCallback\u001b[0m\u001b[0;34m,\u001b[0m \u001b[0mTickerCallback\u001b[0m\u001b[0;34m,\u001b[0m \u001b[0mTradeCallback\u001b[0m\u001b[0;34m\u001b[0m\u001b[0;34m\u001b[0m\u001b[0m\n\u001b[1;32m      3\u001b[0m \u001b[0;32mfrom\u001b[0m \u001b[0mcryptofeed\u001b[0m\u001b[0;34m.\u001b[0m\u001b[0mdefines\u001b[0m \u001b[0;32mimport\u001b[0m \u001b[0mBID\u001b[0m\u001b[0;34m,\u001b[0m \u001b[0mASK\u001b[0m\u001b[0;34m,\u001b[0m \u001b[0mFUNDING\u001b[0m\u001b[0;34m,\u001b[0m \u001b[0mL2_BOOK\u001b[0m\u001b[0;34m,\u001b[0m \u001b[0mOPEN_INTEREST\u001b[0m\u001b[0;34m,\u001b[0m \u001b[0mTICKER\u001b[0m\u001b[0;34m,\u001b[0m \u001b[0mTRADES\u001b[0m\u001b[0;34m\u001b[0m\u001b[0;34m\u001b[0m\u001b[0m\n\u001b[1;32m      4\u001b[0m \u001b[0;32mfrom\u001b[0m \u001b[0mcryptofeed\u001b[0m\u001b[0;34m.\u001b[0m\u001b[0mexchanges\u001b[0m \u001b[0;32mimport\u001b[0m \u001b[0mDeribit\u001b[0m\u001b[0;34m\u001b[0m\u001b[0;34m\u001b[0m\u001b[0m\n\u001b[1;32m      5\u001b[0m \u001b[0;34m\u001b[0m\u001b[0m\n",
      "\u001b[0;31mImportError\u001b[0m: cannot import name 'FeedHandler' from 'cryptofeed' (unknown location)"
     ]
    }
   ],
   "source": [
    "\n",
    "from cryptofeed.callback import BookCallback, TickerCallback, TradeCallback\n",
    "from cryptofeed.defines import BID, ASK, FUNDING, L2_BOOK, OPEN_INTEREST, TICKER, TRADES\n",
    "from cryptofeed.exchanges import Deribit\n",
    "\n",
    "\n",
    "async def trade(feed, symbol, order_id, timestamp, side, amount, price, receipt_timestamp):\n",
    "    print(f\"Timestamp: {timestamp} Feed: {feed} Pair: {symbol} ID: {order_id} Side: {side} Amount: {amount} Price: {price}\")\n",
    "\n",
    "\n",
    "async def ticker(feed, symbol, bid, ask, timestamp, receipt_timestamp):\n",
    "    print(f'Feed: {feed} Pair: {symbol} Bid: {bid} Ask: {ask}')\n",
    "\n",
    "\n",
    "async def book(feed, symbol, book, timestamp, receipt_timestamp):\n",
    "    print(f'Timestamp: {timestamp} Feed: {feed} Pair: {symbol} Book Bid Size is {len(book[BID])} Ask Size is {len(book[ASK])}')\n",
    "\n",
    "\n",
    "async def funding(**kwargs):\n",
    "    print(f'Funding {kwargs}')\n",
    "\n",
    "\n",
    "async def oi(feed, symbol, open_interest, timestamp, receipt_timestamp):\n",
    "    print(f'Timestamp: {timestamp} Feed: {feed} Pair: {symbol} open interest: {open_interest}')\n",
    "\n",
    "\n",
    "def main():\n",
    "    f = FeedHandler()\n",
    "\n",
    "    # Deribit can't handle 400+ simultaneous requests, so if all\n",
    "    # instruments are needed they should be fed in the different calls\n",
    "\n",
    "    sub = {TRADES: [\"BTC-PERPETUAL\"], TICKER: ['ETH-PERPETUAL'], FUNDING: ['ETH-PERPETUAL'], OPEN_INTEREST: ['ETH-PERPETUAL']}\n",
    "    f.add_feed(Deribit(subscription=sub, callbacks={OPEN_INTEREST: oi, FUNDING: funding, TICKER: TickerCallback(ticker), TRADES: TradeCallback(trade)}))\n",
    "    print(f)\n",
    "    f.add_feed(Deribit(symbols=['BTC-PERPETUAL'], channels=[L2_BOOK], callbacks={L2_BOOK: BookCallback(book)}))\n",
    "\n",
    "    f.run()\n",
    "\n",
    "\n",
    "if __name__ == '__main__':\n",
    "    main()"
   ]
  },
  {
   "cell_type": "code",
   "execution_count": null,
   "metadata": {},
   "outputs": [],
   "source": [
    "'''\n",
    "Copyright (C) 2021-2021  Cryptofeed contributors\n",
    "\n",
    "Please see the LICENSE file for the terms and conditions\n",
    "associated with this software.\n",
    "'''\n",
    "from functools import partial\n",
    "\n",
    "from cryptofeed import FeedHandler\n",
    "from cryptofeed.defines import BOOK_DELTA, FUNDING, BITFINEX, L2_BOOK, L3_BOOK, TICKER, TRADES\n",
    "\n",
    "\n",
    "async def print_all(*args, **kwargs):\n",
    "    print(args, kwargs)\n",
    "\n",
    "\n",
    "def main():\n",
    "\n",
    "    config = {'log': {'filename': 'demo_bitfinex.log', 'level': 'DEBUG'}}\n",
    "    f = FeedHandler(config=config)\n",
    "\n",
    "    callbacks = {\n",
    "        FUNDING: partial(print_all, FUNDING),\n",
    "        TRADES: partial(print_all, TRADES),\n",
    "        TICKER: partial(print_all, TICKER),\n",
    "        L2_BOOK: partial(print_all, L2_BOOK),\n",
    "        L3_BOOK: partial(print_all, L3_BOOK),\n",
    "        BOOK_DELTA: partial(print_all, BOOK_DELTA),\n",
    "    }\n",
    "\n",
    "    # OK\n",
    "    f.add_feed(BITFINEX, symbols=['BTC-USD'], channels=[TRADES], callbacks=callbacks)\n",
    "    f.add_feed(BITFINEX, symbols=['BTC-USD'], channels=[TICKER], callbacks=callbacks)\n",
    "    f.add_feed(BITFINEX, symbols=['BTC-USD'], channels=[L2_BOOK], callbacks=callbacks)\n",
    "    f.add_feed(BITFINEX, symbols=['BTC-USD'], channels=[L3_BOOK], callbacks=callbacks)\n",
    "\n",
    "    # OK: TRADES FUNDING\n",
    "    f.add_feed(BITFINEX, symbols=['BTC'], channels=[FUNDING], callbacks=callbacks)\n",
    "\n",
    "    # Bad: following line subscribes to TRADES /!\\\n",
    "    f.add_feed(BITFINEX, symbols=['BTC-USD'], channels=[FUNDING], callbacks=callbacks)\n",
    "\n",
    "    # Bad: following line subscribes to FUNDING /!\\\n",
    "    f.add_feed(BITFINEX, symbols=['BTC'], channels=[TRADES], callbacks=callbacks)\n",
    "\n",
    "    # Warning: TICKER FUNDING not yet implemented -> do nothing\n",
    "    f.add_feed(BITFINEX, symbols=['BTC'], channels=[TICKER], callbacks=callbacks)\n",
    "\n",
    "    f.run()\n",
    "\n",
    "\n",
    "if __name__ == '__main__':\n",
    "    main()\n"
   ]
  },
  {
   "cell_type": "code",
   "execution_count": 11,
   "metadata": {},
   "outputs": [],
   "source": [
    "f = FeedHandler()\n",
    "?f.add_feed"
   ]
  }
 ],
 "metadata": {
  "kernelspec": {
   "display_name": "Python 3",
   "language": "python",
   "name": "python3"
  },
  "language_info": {
   "codemirror_mode": {
    "name": "ipython",
    "version": 3
   },
   "file_extension": ".py",
   "mimetype": "text/x-python",
   "name": "python",
   "nbconvert_exporter": "python",
   "pygments_lexer": "ipython3",
   "version": "3.7.6"
  }
 },
 "nbformat": 4,
 "nbformat_minor": 4
}
